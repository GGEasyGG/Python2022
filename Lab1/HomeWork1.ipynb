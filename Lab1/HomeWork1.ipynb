{
 "cells": [
  {
   "cell_type": "code",
   "execution_count": 353,
   "id": "1c836e2b",
   "metadata": {},
   "outputs": [],
   "source": [
    "def test(expression):\n",
    "    if(expression):\n",
    "        print(True)\n",
    "    else:\n",
    "        print(False)"
   ]
  },
  {
   "cell_type": "code",
   "execution_count": 354,
   "id": "d57b3448",
   "metadata": {},
   "outputs": [],
   "source": [
    "def test_for_task_08(lst, index, test_list):\n",
    "    generator = task_08_func(lst, index)\n",
    "    result_list = []\n",
    "    \n",
    "    for _ in range(len(lst)):\n",
    "        for x in generator:\n",
    "            result_list.append(x)\n",
    "    if(result_list == test_list):\n",
    "        print(True)\n",
    "    else:\n",
    "        print(False)"
   ]
  },
  {
   "cell_type": "code",
   "execution_count": 355,
   "id": "f8c4eca1",
   "metadata": {},
   "outputs": [],
   "source": [
    "def test_for_task_13(n, test_list):\n",
    "    generator = task_13_func(n)\n",
    "    result_list = []\n",
    "    \n",
    "    if(n != -1):\n",
    "        for _ in range(n):\n",
    "            for x in generator:\n",
    "                result_list.append(x)\n",
    "        if(result_list == test_list):\n",
    "            print(True)\n",
    "        else:\n",
    "            print(False)\n",
    "    else:\n",
    "        k = 0\n",
    "        \n",
    "        for x in generator:\n",
    "            result_list.append(x)\n",
    "            k += 1\n",
    "            if(k == 100):\n",
    "                break\n",
    "        test_list_100 = list(task_13_func(100))\n",
    "        if(result_list == test_list_100):\n",
    "            print(True)\n",
    "        else:\n",
    "            print(False)"
   ]
  },
  {
   "cell_type": "code",
   "execution_count": 356,
   "id": "b0d05409",
   "metadata": {},
   "outputs": [],
   "source": [
    "def read_file(file):\n",
    "    fin = open(file, 'r')\n",
    "    lines = [line.strip() for line in fin.readlines()]\n",
    "    fin.close()\n",
    "    return lines"
   ]
  },
  {
   "cell_type": "code",
   "execution_count": 357,
   "id": "d2c573a5",
   "metadata": {},
   "outputs": [],
   "source": [
    "def task_01_func(year):\n",
    "    if((((year % 4) == 0) and ((year % 100) != 0)) or ((year % 400) == 0)):\n",
    "        return \"YES\"\n",
    "    else:\n",
    "        return \"NO\""
   ]
  },
  {
   "cell_type": "code",
   "execution_count": 358,
   "id": "ddf76816",
   "metadata": {},
   "outputs": [
    {
     "name": "stdout",
     "output_type": "stream",
     "text": [
      "True\n",
      "True\n",
      "True\n",
      "True\n",
      "True\n",
      "True\n",
      "True\n",
      "True\n"
     ]
    }
   ],
   "source": [
    "test(task_01_func(2100) == \"NO\")\n",
    "test(task_01_func(100)  == \"NO\")\n",
    "test(task_01_func(400)  == \"YES\")\n",
    "test(task_01_func(20000)  == \"YES\")\n",
    "test(task_01_func(1)  == \"NO\")\n",
    "test(task_01_func(4)  == \"YES\")\n",
    "test(task_01_func(2021)  == \"NO\")\n",
    "test(task_01_func(2024)  == \"YES\")"
   ]
  },
  {
   "cell_type": "code",
   "execution_count": 359,
   "id": "38486f7b",
   "metadata": {},
   "outputs": [],
   "source": [
    "def task_02_func_v1(number):\n",
    "    return len(str(number))"
   ]
  },
  {
   "cell_type": "code",
   "execution_count": 360,
   "id": "f3a1bdd2",
   "metadata": {},
   "outputs": [
    {
     "name": "stdout",
     "output_type": "stream",
     "text": [
      "True\n",
      "True\n",
      "True\n",
      "True\n",
      "True\n",
      "True\n",
      "True\n"
     ]
    }
   ],
   "source": [
    "test(task_02_func_v1(9) == 1)\n",
    "test(task_02_func_v1(20)  == 2)\n",
    "test(task_02_func_v1(897)  == 3)\n",
    "test(task_02_func_v1(9991)  == 4)\n",
    "test(task_02_func_v1(1)  == 1)\n",
    "test(task_02_func_v1(1234506789)  == 10)\n",
    "test(task_02_func_v1(123456789123456789)  == 18)"
   ]
  },
  {
   "cell_type": "code",
   "execution_count": 361,
   "id": "786b769c",
   "metadata": {},
   "outputs": [],
   "source": [
    "def task_02_func_v2(number):\n",
    "    count = 0\n",
    "    while(number != 0):\n",
    "        number //= 10\n",
    "        count += 1\n",
    "    return count"
   ]
  },
  {
   "cell_type": "code",
   "execution_count": 362,
   "id": "0f99b905",
   "metadata": {},
   "outputs": [
    {
     "name": "stdout",
     "output_type": "stream",
     "text": [
      "True\n",
      "True\n",
      "True\n",
      "True\n",
      "True\n",
      "True\n",
      "True\n"
     ]
    }
   ],
   "source": [
    "test(task_02_func_v2(9) == 1)\n",
    "test(task_02_func_v2(20)  == 2)\n",
    "test(task_02_func_v2(897)  == 3)\n",
    "test(task_02_func_v2(9991)  == 4)\n",
    "test(task_02_func_v2(1)  == 1)\n",
    "test(task_02_func_v2(1234506789)  == 10)\n",
    "test(task_02_func_v2(123456789123456789)  == 18)"
   ]
  },
  {
   "cell_type": "code",
   "execution_count": 363,
   "id": "f628c9a6",
   "metadata": {},
   "outputs": [],
   "source": [
    "def task_03_func_v1(n):\n",
    "    factorial = 1\n",
    "    result = 0\n",
    "    \n",
    "    for i in range(1, n+1):\n",
    "        factorial *= i\n",
    "        result += factorial\n",
    "        \n",
    "    return result"
   ]
  },
  {
   "cell_type": "code",
   "execution_count": 364,
   "id": "a88ca2a7",
   "metadata": {},
   "outputs": [
    {
     "name": "stdout",
     "output_type": "stream",
     "text": [
      "True\n",
      "True\n",
      "True\n",
      "True\n"
     ]
    }
   ],
   "source": [
    "test(task_03_func_v1(1) == 1)\n",
    "test(task_03_func_v1(3)  == 9)\n",
    "test(task_03_func_v1(10)  == 4037913)\n",
    "test(task_03_func_v1(21)  == 53652269665821260313)"
   ]
  },
  {
   "cell_type": "code",
   "execution_count": 365,
   "id": "777c6731",
   "metadata": {},
   "outputs": [],
   "source": [
    "from math import factorial as fact\n",
    "\n",
    "def task_03_func_v2(n):\n",
    "    return sum((fact(x) for x in range(1, n+1)))"
   ]
  },
  {
   "cell_type": "code",
   "execution_count": 366,
   "id": "a3a7d19d",
   "metadata": {},
   "outputs": [
    {
     "name": "stdout",
     "output_type": "stream",
     "text": [
      "True\n",
      "True\n",
      "True\n",
      "True\n"
     ]
    }
   ],
   "source": [
    "test(task_03_func_v2(1) == 1)\n",
    "test(task_03_func_v2(3)  == 9)\n",
    "test(task_03_func_v2(10)  == 4037913)\n",
    "test(task_03_func_v2(21)  == 53652269665821260313)"
   ]
  },
  {
   "cell_type": "code",
   "execution_count": 367,
   "id": "36157c49",
   "metadata": {},
   "outputs": [],
   "source": [
    "def task_04_func_v1(s):\n",
    "    if(s == s[::-1]):\n",
    "        return True\n",
    "    else:\n",
    "        return False"
   ]
  },
  {
   "cell_type": "code",
   "execution_count": 368,
   "id": "ecbcfcf5",
   "metadata": {},
   "outputs": [
    {
     "name": "stdout",
     "output_type": "stream",
     "text": [
      "True\n",
      "True\n",
      "True\n",
      "True\n",
      "True\n",
      "True\n",
      "True\n",
      "True\n",
      "True\n",
      "True\n",
      "True\n",
      "True\n",
      "True\n",
      "True\n",
      "True\n",
      "True\n",
      "True\n"
     ]
    }
   ],
   "source": [
    "test(task_04_func_v1(\"\") == True)\n",
    "test(task_04_func_v1(\"q\")  == True)\n",
    "test(task_04_func_v1(\"qw\")  == False)\n",
    "test(task_04_func_v1(\"qweewq\")  == True)\n",
    "test(task_04_func_v1(\"qwewq\")  == True)\n",
    "test(task_04_func_v1(\"1001\")  == True)\n",
    "test(task_04_func_v1(\"123\")  == False)\n",
    "test(task_04_func_v1(\"qwerty\")  == False)\n",
    "test(task_04_func_v1(\"qw eewq\")  == False)\n",
    "test(task_04_func_v1(\"qwe ewq\")  == True)\n",
    "test(task_04_func_v1(\"q w e e w q\")  == True)\n",
    "test(task_04_func_v1(\"q wee wq\")  == False)\n",
    "test(task_04_func_v1(\"qwe@!@ewq\")  == True)\n",
    "test(task_04_func_v1(\"q1wee@w1q\")  == False)\n",
    "test(task_04_func_v1(\"qw1e@@e1wq\")  == True)\n",
    "test(task_04_func_v1(\" qweewq \")  == True)\n",
    "test(task_04_func_v1(\"qweewq \")  == False)"
   ]
  },
  {
   "cell_type": "code",
   "execution_count": 369,
   "id": "de9c1c05",
   "metadata": {},
   "outputs": [],
   "source": [
    "def task_04_func_v2(s):\n",
    "    for i in range(len(s) // 2):\n",
    "        if(s[i] != s[len(s)-1-i]):\n",
    "            return False\n",
    "            \n",
    "    return True"
   ]
  },
  {
   "cell_type": "code",
   "execution_count": 370,
   "id": "8eeac34e",
   "metadata": {},
   "outputs": [
    {
     "name": "stdout",
     "output_type": "stream",
     "text": [
      "True\n",
      "True\n",
      "True\n",
      "True\n",
      "True\n",
      "True\n",
      "True\n",
      "True\n",
      "True\n",
      "True\n",
      "True\n",
      "True\n",
      "True\n",
      "True\n",
      "True\n",
      "True\n",
      "True\n"
     ]
    }
   ],
   "source": [
    "test(task_04_func_v2(\"\") == True)\n",
    "test(task_04_func_v2(\"q\")  == True)\n",
    "test(task_04_func_v2(\"qw\")  == False)\n",
    "test(task_04_func_v2(\"qweewq\")  == True)\n",
    "test(task_04_func_v2(\"qwewq\")  == True)\n",
    "test(task_04_func_v2(\"1001\")  == True)\n",
    "test(task_04_func_v2(\"123\")  == False)\n",
    "test(task_04_func_v2(\"qwerty\")  == False)\n",
    "test(task_04_func_v2(\"qw eewq\")  == False)\n",
    "test(task_04_func_v2(\"qwe ewq\")  == True)\n",
    "test(task_04_func_v2(\"q w e e w q\")  == True)\n",
    "test(task_04_func_v2(\"q wee wq\")  == False)\n",
    "test(task_04_func_v2(\"qwe@!@ewq\")  == True)\n",
    "test(task_04_func_v2(\"q1wee@w1q\")  == False)\n",
    "test(task_04_func_v2(\"qw1e@@e1wq\")  == True)\n",
    "test(task_04_func_v2(\" qweewq \")  == True)\n",
    "test(task_04_func_v2(\"qweewq \")  == False)"
   ]
  },
  {
   "cell_type": "code",
   "execution_count": 371,
   "id": "c88f8df7",
   "metadata": {},
   "outputs": [],
   "source": [
    "def task_04_func_v3(s):\n",
    "    if(s == ''.join(reversed(s))):\n",
    "        return True\n",
    "    else:\n",
    "        return False"
   ]
  },
  {
   "cell_type": "code",
   "execution_count": 372,
   "id": "483fb830",
   "metadata": {},
   "outputs": [
    {
     "name": "stdout",
     "output_type": "stream",
     "text": [
      "True\n",
      "True\n",
      "True\n",
      "True\n",
      "True\n",
      "True\n",
      "True\n",
      "True\n",
      "True\n",
      "True\n",
      "True\n",
      "True\n",
      "True\n",
      "True\n",
      "True\n",
      "True\n",
      "True\n"
     ]
    }
   ],
   "source": [
    "test(task_04_func_v3(\"\") == True)\n",
    "test(task_04_func_v3(\"q\")  == True)\n",
    "test(task_04_func_v3(\"qw\")  == False)\n",
    "test(task_04_func_v3(\"qweewq\")  == True)\n",
    "test(task_04_func_v3(\"qwewq\")  == True)\n",
    "test(task_04_func_v3(\"1001\")  == True)\n",
    "test(task_04_func_v3(\"123\")  == False)\n",
    "test(task_04_func_v3(\"qwerty\")  == False)\n",
    "test(task_04_func_v3(\"qw eewq\")  == False)\n",
    "test(task_04_func_v3(\"qwe ewq\")  == True)\n",
    "test(task_04_func_v3(\"q w e e w q\")  == True)\n",
    "test(task_04_func_v3(\"q wee wq\")  == False)\n",
    "test(task_04_func_v3(\"qwe@!@ewq\")  == True)\n",
    "test(task_04_func_v3(\"q1wee@w1q\")  == False)\n",
    "test(task_04_func_v3(\"qw1e@@e1wq\")  == True)\n",
    "test(task_04_func_v3(\" qweewq \")  == True)\n",
    "test(task_04_func_v3(\"qweewq \")  == False)"
   ]
  },
  {
   "cell_type": "code",
   "execution_count": 373,
   "id": "bdd405bb",
   "metadata": {},
   "outputs": [],
   "source": [
    "def task_05_func_v1(text):\n",
    "    d = {}\n",
    "    \n",
    "    for word in text.split():\n",
    "        if(word != ''):\n",
    "            if not word in d:\n",
    "                d[word] = 0\n",
    "            d[word] += 1\n",
    "        \n",
    "    return d"
   ]
  },
  {
   "cell_type": "code",
   "execution_count": 374,
   "id": "56bfc954",
   "metadata": {},
   "outputs": [
    {
     "name": "stdout",
     "output_type": "stream",
     "text": [
      "True\n",
      "True\n",
      "True\n",
      "True\n",
      "True\n",
      "True\n",
      "True\n",
      "True\n"
     ]
    }
   ],
   "source": [
    "test(task_05_func_v1(\"\") == {})\n",
    "test(task_05_func_v1(\"qwerty\")  == {\"qwerty\":1})\n",
    "test(task_05_func_v1(\"q qq qqq\")  == {\"q\":1, \"qq\":1, \"qqq\":1})\n",
    "test(task_05_func_v1(\"qwe qwe q q q @#    123\")  == {\"qwe\":2, \"q\":3, \"@#\":1, \"123\":1})\n",
    "test(task_05_func_v1(\"q e r      re   q q     r\")  == {\"q\":3, \"e\":1, \"r\":2, \"re\":1})\n",
    "test(task_05_func_v1(\"qt, qt qt, \")  == {\"qt,\":2, \"qt\":1})\n",
    "test(task_05_func_v1(\"qwe\\t\\t\\tew\\t\\tew qwe\")  == {\"qwe\":2, \"ew\":2})\n",
    "test(task_05_func_v1(\"qwe\\t\\n\\tew\\t\\t\\new \\tQwe\\n\")  == {\"qwe\":1, \"ew\":2, \"Qwe\":1})"
   ]
  },
  {
   "cell_type": "code",
   "execution_count": 375,
   "id": "6d665878",
   "metadata": {},
   "outputs": [],
   "source": [
    "from collections import Counter\n",
    "\n",
    "def task_05_func_v2(text):\n",
    "    d = {}\n",
    "    \n",
    "    for k, v in Counter(text.split()).items():\n",
    "        d[k] = v\n",
    "        \n",
    "    return d"
   ]
  },
  {
   "cell_type": "code",
   "execution_count": 376,
   "id": "51a49361",
   "metadata": {},
   "outputs": [
    {
     "name": "stdout",
     "output_type": "stream",
     "text": [
      "True\n",
      "True\n",
      "True\n",
      "True\n",
      "True\n",
      "True\n",
      "True\n",
      "True\n"
     ]
    }
   ],
   "source": [
    "test(task_05_func_v2(\"\") == {})\n",
    "test(task_05_func_v2(\"qwerty\")  == {\"qwerty\":1})\n",
    "test(task_05_func_v2(\"q qq qqq\")  == {\"q\":1, \"qq\":1, \"qqq\":1})\n",
    "test(task_05_func_v2(\"qwe qwe q q q @#    123\")  == {\"qwe\":2, \"q\":3, \"@#\":1, \"123\":1})\n",
    "test(task_05_func_v2(\"q e r      re   q q     r\")  == {\"q\":3, \"e\":1, \"r\":2, \"re\":1})\n",
    "test(task_05_func_v2(\"qt, qt qt, \")  == {\"qt,\":2, \"qt\":1})\n",
    "test(task_05_func_v2(\"qwe\\t\\t\\tew\\t\\tew qwe\")  == {\"qwe\":2, \"ew\":2})\n",
    "test(task_05_func_v2(\"qwe\\t\\n\\tew\\t\\t\\new \\tQwe\\n\")  == {\"qwe\":1, \"ew\":2, \"Qwe\":1})"
   ]
  },
  {
   "cell_type": "code",
   "execution_count": 377,
   "id": "337e6c7a",
   "metadata": {},
   "outputs": [],
   "source": [
    "def task_06_func(input_str, input_char):\n",
    "    if(input_str.find(input_char) == -1):\n",
    "        return (None, None)\n",
    "    elif(input_str.find(input_char) != input_str.rfind(input_char)):\n",
    "        return (input_str.find(input_char), input_str.rfind(input_char))\n",
    "    elif(input_str.find(input_char) == input_str.rfind(input_char)):\n",
    "        return (input_str.find(input_char), None)"
   ]
  },
  {
   "cell_type": "code",
   "execution_count": 378,
   "id": "77bd582c",
   "metadata": {},
   "outputs": [
    {
     "name": "stdout",
     "output_type": "stream",
     "text": [
      "True\n",
      "True\n",
      "True\n",
      "True\n",
      "True\n",
      "True\n",
      "True\n",
      "True\n",
      "True\n"
     ]
    }
   ],
   "source": [
    "test(task_06_func(\"\", \"a\") == (None,None))\n",
    "test(task_06_func(\"bcad\", \"a\") == (2,None))\n",
    "test(task_06_func(\"ab cd\", \" \") == (2,None))\n",
    "test(task_06_func(\"  \", \" \") == (0,1))\n",
    "test(task_06_func(\"    \", \" \") == (0,3))\n",
    "test(task_06_func(\"abaca\", \"a\") == (0,4))\n",
    "test(task_06_func(\"qwerty\", \"a\") == (None,None))\n",
    "test(task_06_func(\"qqqqqerqer\", \"q\") == (0,7))\n",
    "test(task_06_func(\"abc de   ert\", \" \") == (3,8))"
   ]
  },
  {
   "cell_type": "code",
   "execution_count": 379,
   "id": "baf10a6e",
   "metadata": {},
   "outputs": [],
   "source": [
    "def task_07_func_v1(lst):\n",
    "    positive_list = list(filter(lambda x: x >= 0, lst))\n",
    "    return sorted(list(map(lambda x: x**2, positive_list)), reverse=True)"
   ]
  },
  {
   "cell_type": "code",
   "execution_count": 380,
   "id": "7baf78ee",
   "metadata": {},
   "outputs": [
    {
     "name": "stdout",
     "output_type": "stream",
     "text": [
      "True\n",
      "True\n",
      "True\n",
      "True\n",
      "True\n",
      "True\n",
      "True\n",
      "True\n",
      "True\n"
     ]
    }
   ],
   "source": [
    "test(task_07_func_v1([]) == [])\n",
    "test(task_07_func_v1([-1, -2, -3, -4]) == [])\n",
    "test(task_07_func_v1([-7]) == [])\n",
    "test(task_07_func_v1([4]) == [16])\n",
    "test(task_07_func_v1([0, -1, 1]) == [1, 0])\n",
    "test(task_07_func_v1([1, 2, 3]) == [9, 4, 1])\n",
    "test(task_07_func_v1([-2, -1, -6, 0]) == [0])\n",
    "test(task_07_func_v1([-1, -7, -2, 4, 0, 5, 1, 0, 5]) == [25, 25, 16, 1, 0, 0])\n",
    "test(task_07_func_v1([-1, -1, -2, -3, 6]) == [36])"
   ]
  },
  {
   "cell_type": "code",
   "execution_count": 381,
   "id": "06bd160a",
   "metadata": {},
   "outputs": [],
   "source": [
    "def task_07_func_v2(lst):\n",
    "    return sorted([x ** 2 for x in lst if x >= 0], reverse=True)"
   ]
  },
  {
   "cell_type": "code",
   "execution_count": 382,
   "id": "7333f073",
   "metadata": {},
   "outputs": [
    {
     "name": "stdout",
     "output_type": "stream",
     "text": [
      "True\n",
      "True\n",
      "True\n",
      "True\n",
      "True\n",
      "True\n",
      "True\n",
      "True\n",
      "True\n"
     ]
    }
   ],
   "source": [
    "test(task_07_func_v2([]) == [])\n",
    "test(task_07_func_v2([-1, -2, -3, -4]) == [])\n",
    "test(task_07_func_v2([-7]) == [])\n",
    "test(task_07_func_v2([4]) == [16])\n",
    "test(task_07_func_v2([0, -1, 1]) == [1, 0])\n",
    "test(task_07_func_v2([1, 2, 3]) == [9, 4, 1])\n",
    "test(task_07_func_v2([-2, -1, -6, 0]) == [0])\n",
    "test(task_07_func_v2([-1, -7, -2, 4, 0, 5, 1, 0, 5]) == [25, 25, 16, 1, 0, 0])\n",
    "test(task_07_func_v2([-1, -1, -2, -3, 6]) == [36])"
   ]
  },
  {
   "cell_type": "code",
   "execution_count": 383,
   "id": "b06e0571",
   "metadata": {},
   "outputs": [],
   "source": [
    "def task_07_func_v3(lst):\n",
    "    new_list = []\n",
    "    for i in range(len(lst)):\n",
    "        if(lst[i] >= 0):\n",
    "            new_list.append(lst[i]**2)\n",
    "            \n",
    "    new_list.sort(reverse=True)\n",
    "            \n",
    "    return new_list"
   ]
  },
  {
   "cell_type": "code",
   "execution_count": 384,
   "id": "66ba2689",
   "metadata": {},
   "outputs": [
    {
     "name": "stdout",
     "output_type": "stream",
     "text": [
      "True\n",
      "True\n",
      "True\n",
      "True\n",
      "True\n",
      "True\n",
      "True\n",
      "True\n",
      "True\n"
     ]
    }
   ],
   "source": [
    "test(task_07_func_v3([]) == [])\n",
    "test(task_07_func_v3([-1, -2, -3, -4]) == [])\n",
    "test(task_07_func_v3([-7]) == [])\n",
    "test(task_07_func_v3([4]) == [16])\n",
    "test(task_07_func_v3([0, -1, 1]) == [1, 0])\n",
    "test(task_07_func_v3([1, 2, 3]) == [9, 4, 1])\n",
    "test(task_07_func_v3([-2, -1, -6, 0]) == [0])\n",
    "test(task_07_func_v3([-1, -7, -2, 4, 0, 5, 1, 0, 5]) == [25, 25, 16, 1, 0, 0])\n",
    "test(task_07_func_v3([-1, -1, -2, -3, 6]) == [36])"
   ]
  },
  {
   "cell_type": "code",
   "execution_count": 385,
   "id": "58b1ecdc",
   "metadata": {},
   "outputs": [],
   "source": [
    "def task_08_func(lst, index):\n",
    "    lst.sort(key = lambda x: x[index], reverse=True)\n",
    "    return (x for x in lst)"
   ]
  },
  {
   "cell_type": "code",
   "execution_count": 386,
   "id": "e8cbf24a",
   "metadata": {},
   "outputs": [
    {
     "name": "stdout",
     "output_type": "stream",
     "text": [
      "True\n",
      "True\n",
      "True\n",
      "True\n",
      "True\n",
      "True\n",
      "True\n"
     ]
    }
   ],
   "source": [
    "test_for_task_08([('1', 4), ('12', 1)], 1, [('1', 4), ('12', 1)])\n",
    "test_for_task_08([('1', 4), ('12', 1)], 0, [('12', 1), ('1', 4)])\n",
    "test_for_task_08([('a', 4), ('b', 3), ('c', 2), ('d', 1)], 0, [('d', 1), ('c', 2), ('b', 3), ('a', 4)])\n",
    "test_for_task_08([('1', 0), ('12', 0)], 1, [('1', 0), ('12', 0)])\n",
    "test_for_task_08([('1', 4), ('1', 1)], 0, [('1', 4), ('1', 1)])\n",
    "test_for_task_08([('1',), ('12',)], 0, [('12',), ('1',)])\n",
    "test_for_task_08([('a', 1, '#'), ('b', 4, '@')], 2, [('b', 4, '@'), ('a', 1, '#')])"
   ]
  },
  {
   "cell_type": "code",
   "execution_count": 387,
   "id": "08d11d1a",
   "metadata": {},
   "outputs": [],
   "source": [
    "def task_09_func(n):\n",
    "    for i in range(1, n+1):\n",
    "        c = 1\n",
    "        for j in range(1, i+1): \n",
    "            print(c, end=' ')\n",
    "            c = c * (i - j) // j\n",
    "        print()"
   ]
  },
  {
   "cell_type": "code",
   "execution_count": 388,
   "id": "8c4559e4",
   "metadata": {},
   "outputs": [
    {
     "name": "stdout",
     "output_type": "stream",
     "text": [
      "1 \n",
      "\n",
      "1 \n",
      "1 1 \n",
      "\n",
      "1 \n",
      "1 1 \n",
      "1 2 1 \n",
      "\n",
      "1 \n",
      "1 1 \n",
      "1 2 1 \n",
      "1 3 3 1 \n",
      "\n",
      "1 \n",
      "1 1 \n",
      "1 2 1 \n",
      "1 3 3 1 \n",
      "1 4 6 4 1 \n",
      "1 5 10 10 5 1 \n",
      "\n",
      "1 \n",
      "1 1 \n",
      "1 2 1 \n",
      "1 3 3 1 \n",
      "1 4 6 4 1 \n",
      "1 5 10 10 5 1 \n",
      "1 6 15 20 15 6 1 \n",
      "1 7 21 35 35 21 7 1 \n",
      "\n",
      "1 \n",
      "1 1 \n",
      "1 2 1 \n",
      "1 3 3 1 \n",
      "1 4 6 4 1 \n",
      "1 5 10 10 5 1 \n",
      "1 6 15 20 15 6 1 \n",
      "1 7 21 35 35 21 7 1 \n",
      "1 8 28 56 70 56 28 8 1 \n",
      "1 9 36 84 126 126 84 36 9 1 \n"
     ]
    }
   ],
   "source": [
    "task_09_func(1)\n",
    "print()\n",
    "task_09_func(2)\n",
    "print()\n",
    "task_09_func(3)\n",
    "print()\n",
    "task_09_func(4)\n",
    "print()\n",
    "task_09_func(6)\n",
    "print()\n",
    "task_09_func(8)\n",
    "print()\n",
    "task_09_func(10)"
   ]
  },
  {
   "cell_type": "code",
   "execution_count": 389,
   "id": "6d7f8071",
   "metadata": {},
   "outputs": [],
   "source": [
    "from pathlib import Path\n",
    "\n",
    "def task_10_func(dir_path, pref_extension, next_extension):\n",
    "    files_count = 0\n",
    "    change_files_count = 0\n",
    "    path = Path(dir_path) \n",
    "    for x in path.iterdir():\n",
    "        if x.is_file(): \n",
    "            files_count += 1\n",
    "            if(x.suffix == pref_extension):\n",
    "                if(x.rename(x.with_suffix(next_extension))):\n",
    "                    change_files_count += 1\n",
    "                \n",
    "    return (files_count, change_files_count)  "
   ]
  },
  {
   "cell_type": "code",
   "execution_count": 390,
   "id": "ccf4fa0e",
   "metadata": {},
   "outputs": [
    {
     "name": "stdout",
     "output_type": "stream",
     "text": [
      "True\n",
      "True\n",
      "True\n",
      "True\n",
      "True\n",
      "True\n",
      "True\n"
     ]
    }
   ],
   "source": [
    "import os\n",
    "\n",
    "dir_name = Path(os.getcwd())/\"test_dir_for_task_10\"\n",
    "\n",
    "test(task_10_func(dir_name, \".txt\", \".csv1\") == (8, 3))\n",
    "test(task_10_func(dir_name, \".png\", \".csv2\") == (8, 1))\n",
    "test(task_10_func(dir_name, \".py\", \".csv3\") == (8, 2))\n",
    "test(task_10_func(dir_name, \".docx\", \".csv4\") == (8, 1))\n",
    "test(task_10_func(dir_name, \".mp4\", \".csv5\") == (8, 1))\n",
    "test(task_10_func(dir_name, \".ipynb\", \".csv\") == (8, 0))\n",
    "\n",
    "dir_name_empty = Path(os.getcwd())/\"test_dir_for_task_10\"/\"dir1\"\n",
    "\n",
    "test(task_10_func(dir_name_empty, \".txt\", \".csv\") == (0, 0))"
   ]
  },
  {
   "cell_type": "code",
   "execution_count": 391,
   "id": "5f55262a",
   "metadata": {},
   "outputs": [
    {
     "name": "stdout",
     "output_type": "stream",
     "text": [
      "True\n",
      "True\n",
      "True\n",
      "True\n",
      "True\n"
     ]
    }
   ],
   "source": [
    "test(task_10_func(dir_name, \".csv1\", \".txt\") == (8, 3))\n",
    "test(task_10_func(dir_name, \".csv2\", \".png\") == (8, 1))\n",
    "test(task_10_func(dir_name, \".csv3\", \".py\") == (8, 2))\n",
    "test(task_10_func(dir_name, \".csv4\", \".docx\") == (8, 1))\n",
    "test(task_10_func(dir_name, \".csv5\", \".mp4\") == (8, 1))"
   ]
  },
  {
   "cell_type": "code",
   "execution_count": 392,
   "id": "42944630",
   "metadata": {},
   "outputs": [],
   "source": [
    "def task_11_func(first_list, second_list):\n",
    "    return list(set(first_list) - set(second_list))"
   ]
  },
  {
   "cell_type": "code",
   "execution_count": 393,
   "id": "99746097",
   "metadata": {},
   "outputs": [
    {
     "name": "stdout",
     "output_type": "stream",
     "text": [
      "True\n",
      "True\n",
      "True\n",
      "True\n",
      "True\n",
      "True\n",
      "True\n",
      "True\n",
      "True\n",
      "True\n",
      "True\n",
      "True\n",
      "True\n",
      "True\n",
      "False\n"
     ]
    }
   ],
   "source": [
    "test(task_11_func([], []) == [])\n",
    "test(task_11_func([None], []) == [None])\n",
    "test(task_11_func([], [None]) == [])\n",
    "test(task_11_func([1, 2, 3, 4], [1, 2, 3, 4]) == [])\n",
    "test(task_11_func([1, 1, 1], [1]) == [])\n",
    "test(task_11_func([1, 1, 3], [2, 3, 4, 4]) == [1])\n",
    "test(task_11_func([1, 2, 3], []) == [1, 2, 3])\n",
    "test(task_11_func([1, 2, 3], [4, 5, 6]) == [1, 2, 3])\n",
    "test(task_11_func([1, 1, 2, 2, 3, 4], [2, 5]) == [1, 3, 4])\n",
    "test(task_11_func([1, 2, 3, 4], [1, 2]) == [3, 4])\n",
    "test(task_11_func([1, 2, None], [1, 4, 5]) == [2, None])\n",
    "test(task_11_func([1, None, 2], [None, 1]) == [2])\n",
    "test(task_11_func([None, None, 1], [1, 4]) == [None])\n",
    "test(task_11_func([], [1, 4, 5]) == [])\n",
    "test(task_11_func([\"q\", \"wet\", \"@\", \"#\", 1, 2], [\"q\", \"#\", 1, 7, 4, \"qwerty\"]) == [\"@\", \"wet\", 2])"
   ]
  },
  {
   "cell_type": "code",
   "execution_count": 394,
   "id": "85ef072d",
   "metadata": {},
   "outputs": [],
   "source": [
    "def task_12_func(input_path, output_path):\n",
    "    fin = open(input_path, 'r')\n",
    "    fout = open(output_path, 'w')\n",
    "    \n",
    "    line = fin.readline()\n",
    "    min_value = float(line)\n",
    "    \n",
    "    while(line):\n",
    "        line = fin.readline()\n",
    "        if(line == ''):\n",
    "            break\n",
    "        value = float(line)\n",
    "        if(value < min_value):\n",
    "            min_value = value\n",
    "\n",
    "    fin.seek(0)\n",
    "    \n",
    "    line = fin.readline()\n",
    "    \n",
    "    while(line):\n",
    "        line = fin.readline()\n",
    "        if(line == ''):\n",
    "            break\n",
    "        value = float(line) + min_value\n",
    "        fout.write('{val_1:0.5f}\\n'.format(val_1=value))\n",
    "        line = fin.readline()\n",
    "    \n",
    "    fin.close()\n",
    "    fout.close()"
   ]
  },
  {
   "cell_type": "code",
   "execution_count": 395,
   "id": "d82e19c7",
   "metadata": {},
   "outputs": [
    {
     "name": "stdout",
     "output_type": "stream",
     "text": [
      "True\n",
      "True\n",
      "True\n",
      "True\n",
      "True\n"
     ]
    }
   ],
   "source": [
    "dir_name = Path(os.getcwd())/\"test_dir_for_task_12\"\n",
    "\n",
    "input_path, output_path = dir_name/\"input1.txt\", dir_name/\"output1.txt\"\n",
    "task_12_func(input_path, output_path)\n",
    "test(read_file(output_path) == [])\n",
    "\n",
    "input_path, output_path = dir_name/\"input2.txt\", dir_name/\"output2.txt\" \n",
    "task_12_func(input_path, output_path)\n",
    "test(read_file(output_path) == [\"3.00000\"])\n",
    "\n",
    "input_path, output_path = dir_name/\"input3.txt\", dir_name/\"output3.txt\" \n",
    "task_12_func(input_path, output_path)\n",
    "test(read_file(output_path) == [\"1.00000\", \"-2.00000\"])\n",
    "\n",
    "input_path, output_path = dir_name/\"input4.txt\", dir_name/\"output4.txt\" \n",
    "task_12_func(input_path, output_path)\n",
    "test(read_file(output_path) == [\"-1.00000\"])\n",
    "\n",
    "input_path, output_path = dir_name/\"input5.txt\", dir_name/\"output5.txt\"\n",
    "task_12_func(input_path, output_path)\n",
    "test(read_file(output_path) == [\"-4.00000\", \"-2.00000\", \"-1.00000\"])"
   ]
  },
  {
   "cell_type": "code",
   "execution_count": 396,
   "id": "366a19ce",
   "metadata": {},
   "outputs": [],
   "source": [
    "def task_13_func(n):\n",
    "    f1, f2 = 0, 1\n",
    "    \n",
    "    if(n != -1):\n",
    "        for i in range(n):\n",
    "            yield f1\n",
    "            f1, f2 = f2, f1 + f2\n",
    "    else:\n",
    "        while True:\n",
    "            yield f1\n",
    "            f1, f2 = f2, f1 + f2"
   ]
  },
  {
   "cell_type": "code",
   "execution_count": 397,
   "id": "4f66b39e",
   "metadata": {},
   "outputs": [
    {
     "name": "stdout",
     "output_type": "stream",
     "text": [
      "True\n",
      "True\n",
      "True\n",
      "True\n",
      "True\n",
      "True\n",
      "True\n"
     ]
    }
   ],
   "source": [
    "test_for_task_13(1, [0])\n",
    "test_for_task_13(2, [0, 1])\n",
    "test_for_task_13(3, [0, 1, 1])\n",
    "test_for_task_13(4, [0, 1, 1, 2])\n",
    "test_for_task_13(7, [0, 1, 1, 2, 3, 5, 8])\n",
    "test_for_task_13(10, [0, 1, 1, 2, 3, 5, 8, 13, 21, 34])\n",
    "test_for_task_13(-1, [])"
   ]
  },
  {
   "cell_type": "code",
   "execution_count": 398,
   "id": "af16ef80",
   "metadata": {},
   "outputs": [],
   "source": [
    "def task_14_func(n):\n",
    "    if(type(n) == int):\n",
    "        return list(filter(lambda x: x.startswith('__a'), dir(n)))\n",
    "    elif(type(n) == str):\n",
    "        return list(filter(lambda x: x.startswith('__s'), dir(n)))\n",
    "    else:\n",
    "        return list(filter(lambda x: not x.startswith('__'), dir(n)))"
   ]
  },
  {
   "cell_type": "code",
   "execution_count": 399,
   "id": "e8f72a2c",
   "metadata": {},
   "outputs": [
    {
     "name": "stdout",
     "output_type": "stream",
     "text": [
      "True\n",
      "True\n",
      "True\n",
      "True\n",
      "True\n",
      "True\n",
      "True\n",
      "True\n",
      "True\n",
      "True\n",
      "True\n",
      "True\n",
      "True\n",
      "True\n",
      "True\n",
      "True\n",
      "True\n",
      "True\n",
      "True\n",
      "True\n",
      "True\n",
      "True\n",
      "True\n"
     ]
    }
   ],
   "source": [
    "test(task_14_func(5.423756) == ['as_integer_ratio', 'conjugate', 'fromhex', 'hex', 'imag', 'is_integer', 'real'])\n",
    "test(task_14_func(-5.423756) == ['as_integer_ratio', 'conjugate', 'fromhex', 'hex', 'imag', 'is_integer', 'real'])\n",
    "test(task_14_func(0.0) == ['as_integer_ratio', 'conjugate', 'fromhex', 'hex', 'imag', 'is_integer', 'real'])\n",
    "test(task_14_func(0) == ['__abs__', '__add__', '__and__'])\n",
    "test(task_14_func(5) == ['__abs__', '__add__', '__and__'])\n",
    "test(task_14_func(-1) == ['__abs__', '__add__', '__and__'])\n",
    "test(task_14_func(\"\") == ['__setattr__', '__sizeof__', '__str__', '__subclasshook__'])\n",
    "test(task_14_func(\"\\n\") == ['__setattr__', '__sizeof__', '__str__', '__subclasshook__'])\n",
    "test(task_14_func(\"hsajshfskj\") == ['__setattr__', '__sizeof__', '__str__', '__subclasshook__'])\n",
    "test(task_14_func(None) == [])\n",
    "test(task_14_func(\"\") == ['__setattr__', '__sizeof__', '__str__', '__subclasshook__'])\n",
    "test(task_14_func(True) == ['as_integer_ratio', 'bit_count', 'bit_length', 'conjugate', 'denominator', 'from_bytes', 'imag', 'numerator', 'real', 'to_bytes'])\n",
    "test(task_14_func(3+4j) == ['conjugate', 'imag', 'real'])\n",
    "test(task_14_func(0b11) == ['__abs__', '__add__', '__and__'])\n",
    "test(task_14_func(0o11) == ['__abs__', '__add__', '__and__'])\n",
    "test(task_14_func(0x90A) == ['__abs__', '__add__', '__and__'])\n",
    "test(task_14_func(4.) == ['as_integer_ratio', 'conjugate', 'fromhex', 'hex', 'imag', 'is_integer', 'real'])\n",
    "test(task_14_func(1e+5) == ['as_integer_ratio', 'conjugate', 'fromhex', 'hex', 'imag', 'is_integer', 'real'])\n",
    "test(task_14_func(1.0E+54) == ['as_integer_ratio', 'conjugate', 'fromhex', 'hex', 'imag', 'is_integer', 'real'])\n",
    "test(task_14_func([1, 2, 3]) == ['append', 'clear', 'copy', 'count', 'extend', 'index', 'insert', 'pop', 'remove', 'reverse', 'sort'])\n",
    "test(task_14_func((1, 2, 3)) == ['count', 'index'])\n",
    "test(task_14_func({\"a\":1}) == ['clear', 'copy', 'fromkeys', 'get', 'items', 'keys', 'pop', 'popitem', 'setdefault', 'update', 'values'])\n",
    "test(task_14_func(set(\"abc\")) == ['add', 'clear', 'copy', 'difference', 'difference_update', 'discard', 'intersection', 'intersection_update', 'isdisjoint', 'issubset', 'issuperset', 'pop', 'remove', 'symmetric_difference', 'symmetric_difference_update', 'union', 'update'])"
   ]
  },
  {
   "cell_type": "code",
   "execution_count": 400,
   "id": "201249aa",
   "metadata": {},
   "outputs": [],
   "source": [
    "def task_15_func_v1(n):\n",
    "    str_as_list = list(map(lambda a: ord(a) if 'A' <= a <= \"Z\" else a, n))\n",
    "    str_of_values = \"\".join(map(str, filter(lambda x: type(int(x)) is int if '0' <= str(x) <= \"9\" else type(x) is int, str_as_list)))\n",
    "    if(len(str_of_values) == 0):\n",
    "        return [\"\".join(map(str, str_as_list))]\n",
    "    else:\n",
    "        return \"\".join(map(str, str_as_list)).split(min(list(str_of_values)))"
   ]
  },
  {
   "cell_type": "code",
   "execution_count": 401,
   "id": "1e9f4500",
   "metadata": {},
   "outputs": [
    {
     "name": "stdout",
     "output_type": "stream",
     "text": [
      "True\n",
      "True\n",
      "True\n",
      "True\n",
      "True\n",
      "True\n",
      "True\n",
      "True\n",
      "True\n",
      "True\n",
      "True\n",
      "True\n",
      "True\n",
      "True\n"
     ]
    }
   ],
   "source": [
    "test(task_15_func_v1(\"qwerty\") == [\"qwerty\"])\n",
    "test(task_15_func_v1(\"qw erty\") == [\"qw erty\"])\n",
    "test(task_15_func_v1(\"qweRty\") == [\"qwe8\", \"ty\"])\n",
    "test(task_15_func_v1(\"\") == [\"\"])\n",
    "test(task_15_func_v1(\"QWERTY\") == ['8', '8769828489'])\n",
    "test(task_15_func_v1(\"818769828489\") == ['8', '8769828489'])\n",
    "test(task_15_func_v1(\"Q Q e\") == ['8', ' 8', ' e'])\n",
    "test(task_15_func_v1(\"XXX\") == ['', '', '', '', '', '', ''])\n",
    "test(task_15_func_v1(\"Q\") == ['8', ''])\n",
    "test(task_15_func_v1(\"abcA23\") == [\"abc65\", \"3\"])\n",
    "test(task_15_func_v1(\"abcQkkQir\") == [\"abc8\", \"kk8\", \"ir\"])\n",
    "test(task_15_func_v1(\"a0bcdfQfdr\") == [\"a\", \"bcdf81fdr\"])\n",
    "test(task_15_func_v1(\"abcQkkGir\") == [\"abc8\", \"kk7\", \"ir\"])\n",
    "test(task_15_func_v1(\"abcQkkGir1uio\") == [\"abc8\", \"kk7\", \"ir\", \"uio\"])"
   ]
  },
  {
   "cell_type": "code",
   "execution_count": 402,
   "id": "772dc177",
   "metadata": {},
   "outputs": [],
   "source": [
    "def task_15_func_v2(n):\n",
    "    list_of_values = []\n",
    "    new_str = ''\n",
    "    for i in range(len(n)):\n",
    "        if('A' <= n[i] <= 'Z'):\n",
    "            new_str += str(ord(n[i]))\n",
    "            list_of_values.append(ord(n[i]) // 10)\n",
    "            list_of_values.append(ord(n[i]) % 10)\n",
    "        elif('0' <= n[i] <= '9'):\n",
    "            list_of_values.append(int(n[i]))\n",
    "            new_str += n[i]\n",
    "        else:\n",
    "            new_str += n[i]\n",
    "    if(len(list_of_values) != 0):        \n",
    "        return new_str.split(str(min(list_of_values)))\n",
    "    else:\n",
    "        return [new_str]"
   ]
  },
  {
   "cell_type": "code",
   "execution_count": 403,
   "id": "b257fef7",
   "metadata": {},
   "outputs": [
    {
     "name": "stdout",
     "output_type": "stream",
     "text": [
      "True\n",
      "True\n",
      "True\n",
      "True\n",
      "True\n",
      "True\n",
      "True\n",
      "True\n",
      "True\n",
      "True\n",
      "True\n",
      "True\n",
      "True\n",
      "True\n"
     ]
    }
   ],
   "source": [
    "test(task_15_func_v2(\"qwerty\") == [\"qwerty\"])\n",
    "test(task_15_func_v2(\"qw erty\") == [\"qw erty\"])\n",
    "test(task_15_func_v2(\"qweRty\") == [\"qwe8\", \"ty\"])\n",
    "test(task_15_func_v2(\"\") == [\"\"])\n",
    "test(task_15_func_v2(\"QWERTY\") == ['8', '8769828489'])\n",
    "test(task_15_func_v1(\"818769828489\") == ['8', '8769828489'])\n",
    "test(task_15_func_v2(\"Q Q e\") == ['8', ' 8', ' e'])\n",
    "test(task_15_func_v2(\"XXX\") == ['', '', '', '', '', '', ''])\n",
    "test(task_15_func_v2(\"Q\") == ['8', ''])\n",
    "test(task_15_func_v2(\"abcA23\") == [\"abc65\", \"3\"])\n",
    "test(task_15_func_v2(\"abcQkkQir\") == [\"abc8\", \"kk8\", \"ir\"])\n",
    "test(task_15_func_v2(\"a0bcdfQfdr\") == [\"a\", \"bcdf81fdr\"])\n",
    "test(task_15_func_v2(\"abcQkkGir\") == [\"abc8\", \"kk7\", \"ir\"])\n",
    "test(task_15_func_v2(\"abcQkkGir1uio\") == [\"abc8\", \"kk7\", \"ir\", \"uio\"])"
   ]
  },
  {
   "cell_type": "code",
   "execution_count": 404,
   "id": "ed079a9d",
   "metadata": {},
   "outputs": [],
   "source": [
    "import re\n",
    "\n",
    "def task_16_func(n):\n",
    "    phone_number_pattern = re.compile(\n",
    "        \"(?:\\\\+7|8)(?:-[0-9]{3}-[0-9]{3}-[0-9]{2}-[0-9]{2}|\"\n",
    "        \" \\\\([0-9]{3}\\\\) [0-9]{3}-[0-9]{2}-[0-9]{2}|\\\\([0-9]{3}\\\\)[0-9]{7}|\"\n",
    "        \" [0-9]{3} [0-9]{3} [0-9]{2} [0-9]{2}|[0-9]{10})\"\n",
    "    )    \n",
    "    \n",
    "    return phone_number_pattern.findall(n)"
   ]
  },
  {
   "cell_type": "code",
   "execution_count": 405,
   "id": "8d0ce26a",
   "metadata": {},
   "outputs": [
    {
     "name": "stdout",
     "output_type": "stream",
     "text": [
      "True\n",
      "True\n",
      "True\n",
      "True\n",
      "True\n",
      "True\n",
      "True\n",
      "True\n",
      "True\n",
      "True\n",
      "True\n",
      "True\n",
      "True\n",
      "True\n",
      "True\n",
      "True\n",
      "True\n",
      "True\n"
     ]
    }
   ],
   "source": [
    "test(task_16_func(\"89652372367\") == [\"89652372367\"])\n",
    "test(task_16_func(\"+79652372367\") == [\"+79652372367\"])\n",
    "test(task_16_func(\"8(965)2372367\") == [\"8(965)2372367\"])\n",
    "test(task_16_func(\"+7(965)2372367\") == [\"+7(965)2372367\"])\n",
    "test(task_16_func(\"8-965-237-23-67\") == [\"8-965-237-23-67\"])\n",
    "test(task_16_func(\"+7-965-237-23-67\") == [\"+7-965-237-23-67\"])\n",
    "test(task_16_func(\"8 965 237 23 67\") == [\"8 965 237 23 67\"])\n",
    "test(task_16_func(\"+7 965 237 23 67\") == [\"+7 965 237 23 67\"])\n",
    "test(task_16_func(\"8 (965) 237-23-67\") == [\"8 (965) 237-23-67\"])\n",
    "test(task_16_func(\"+7 (965) 237-23-67\") == [\"+7 (965) 237-23-67\"])\n",
    "test(task_16_func(\"+7 (965) 237-23-67\") == [\"+7 (965) 237-23-67\"])\n",
    "test(task_16_func(\"shfjghdjk +7    (965) 237-23-67\") == [])\n",
    "test(task_16_func(\"89076783636 +7-965-237-23-67, fdhfghjgh, gksjdkf, 89652372367\") == [\"89076783636\", \"+7-965-237-23-67\", \"89652372367\"])\n",
    "test(task_16_func(\"8 965) 237-23-67dfgdkjfh  8-969895-237-23-67 dfjkadj<+7 965 237 23 67\") == [\"+7 965 237 23 67\"])\n",
    "test(task_16_func(\"+7-(965)-237-23-678 (965) 237-23-67 \") == [\"8 (965) 237-23-67\"])\n",
    "test(task_16_func(\"+7 (965) 237-23-678 (965) 237 23 67 \") == [\"+7 (965) 237-23-67\"])\n",
    "test(task_16_func(\"+7 (965) 237-23-68 (965) 237 23 67 \") == [\"+7 (965) 237-23-68\"])\n",
    "test(task_16_func(\"8 965 237  23 67\") == [])"
   ]
  },
  {
   "cell_type": "code",
   "execution_count": 406,
   "id": "4b27637b",
   "metadata": {},
   "outputs": [],
   "source": [
    "def task_17_func_v1(n):\n",
    "    def go_down(n, summ):\n",
    "        result_sum = summ + n[0]\n",
    "\n",
    "        if(n[1] is not None):\n",
    "            go_down(n[1], result_sum)\n",
    "        if(n[2] is not None):\n",
    "            go_down(n[2], result_sum)\n",
    "        if((n[1] is None) and (n[2] is None)):\n",
    "            print(result_sum)\n",
    "    go_down(n, 0)"
   ]
  },
  {
   "cell_type": "code",
   "execution_count": 407,
   "id": "66153ccd",
   "metadata": {},
   "outputs": [
    {
     "name": "stdout",
     "output_type": "stream",
     "text": [
      "10\n",
      "8\n",
      "14\n",
      "34\n",
      "-----\n",
      "6\n",
      "7\n",
      "12\n",
      "14\n",
      "-----\n",
      "6\n",
      "-----\n",
      "6\n",
      "12\n",
      "-----\n",
      "12\n",
      "13\n",
      "14\n"
     ]
    }
   ],
   "source": [
    "task_17_func_v1((1, (2, (3, (4, None, None), None), (5, None, None)), (6, (7, None, None), (8, (9, None, (10, None, None)), None))))\n",
    "print(\"-----\")\n",
    "task_17_func_v1((1, (2, (3, None, None), (4, None, None)), (5, (6, None, None), (8, None, None))))\n",
    "print(\"-----\")\n",
    "task_17_func_v1((1, (2, (3, None, None), None), None))\n",
    "print(\"-----\")\n",
    "task_17_func_v1((1, (2, (3, None, None), None), (5, (6, None, None), None)))\n",
    "print(\"-----\")\n",
    "task_17_func_v1((1, (2, None, (4, (5, None, None), (6, None, None))), (5, None, (8, None, None))))"
   ]
  },
  {
   "cell_type": "code",
   "execution_count": 408,
   "id": "98279fd9",
   "metadata": {},
   "outputs": [],
   "source": [
    "def task_17_func_v2(n):\n",
    "    stack = []\n",
    "    stack_with_sum = []\n",
    "    top = n\n",
    "    result_sum = 0\n",
    "    while((top is not None) or (len(stack) != 0)):\n",
    "        if(len(stack) != 0):\n",
    "            top = stack.pop()\n",
    "            result_sum = stack_with_sum.pop()\n",
    "        while (top is not None):\n",
    "            if((top[2] is not None) or (top[1] is not None)):\n",
    "                stack.append(top[2])\n",
    "                result_sum += top[0]\n",
    "                stack_with_sum.append(result_sum)\n",
    "            else:\n",
    "                result_sum += top[0]\n",
    "                print(result_sum)\n",
    "                result_sum = 0\n",
    "            top=top[1]     "
   ]
  },
  {
   "cell_type": "code",
   "execution_count": 409,
   "id": "384c38de",
   "metadata": {},
   "outputs": [
    {
     "name": "stdout",
     "output_type": "stream",
     "text": [
      "10\n",
      "8\n",
      "14\n",
      "34\n",
      "-----\n",
      "6\n",
      "7\n",
      "12\n",
      "14\n",
      "-----\n",
      "6\n",
      "-----\n",
      "6\n",
      "12\n",
      "-----\n",
      "12\n",
      "13\n",
      "14\n"
     ]
    }
   ],
   "source": [
    "task_17_func_v2((1, (2, (3, (4, None, None), None), (5, None, None)), (6, (7, None, None), (8, (9, None, (10, None, None)), None))))\n",
    "print(\"-----\")\n",
    "task_17_func_v2((1, (2, (3, None, None), (4, None, None)), (5, (6, None, None), (8, None, None))))\n",
    "print(\"-----\")\n",
    "task_17_func_v2((1, (2, (3, None, None), None), None))\n",
    "print(\"-----\")\n",
    "task_17_func_v2((1, (2, (3, None, None), None), (5, (6, None, None), None)))\n",
    "print(\"-----\")\n",
    "task_17_func_v2((1, (2, None, (4, (5, None, None), (6, None, None))), (5, None, (8, None, None))))"
   ]
  },
  {
   "cell_type": "code",
   "execution_count": null,
   "id": "8f29dc9e",
   "metadata": {},
   "outputs": [],
   "source": []
  }
 ],
 "metadata": {
  "kernelspec": {
   "display_name": "Python 3 (ipykernel)",
   "language": "python",
   "name": "python3"
  },
  "language_info": {
   "codemirror_mode": {
    "name": "ipython",
    "version": 3
   },
   "file_extension": ".py",
   "mimetype": "text/x-python",
   "name": "python",
   "nbconvert_exporter": "python",
   "pygments_lexer": "ipython3",
   "version": "3.10.2"
  }
 },
 "nbformat": 4,
 "nbformat_minor": 5
}
